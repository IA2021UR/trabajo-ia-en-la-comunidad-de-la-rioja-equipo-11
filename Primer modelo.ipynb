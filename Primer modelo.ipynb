{
  "nbformat": 4,
  "nbformat_minor": 0,
  "metadata": {
    "colab": {
      "name": "Untitled0.ipynb",
      "provenance": [],
      "include_colab_link": true
    },
    "kernelspec": {
      "name": "python3",
      "display_name": "Python 3"
    },
    "language_info": {
      "name": "python"
    }
  },
  "cells": [
    {
      "cell_type": "markdown",
      "metadata": {
        "id": "view-in-github",
        "colab_type": "text"
      },
      "source": [
        "<a href=\"https://colab.research.google.com/github/IA2021UR/trabajo-ia-en-la-comunidad-de-la-rioja-equipo-11/blob/main/Primer%20modelo.ipynb\" target=\"_parent\"><img src=\"https://colab.research.google.com/assets/colab-badge.svg\" alt=\"Open In Colab\"/></a>"
      ]
    },
    {
      "cell_type": "markdown",
      "metadata": {
        "id": "eJgBNMkrOcSS"
      },
      "source": [
        "# Primer modelo"
      ]
    },
    {
      "cell_type": "markdown",
      "metadata": {
        "id": "bHp06YuymHvR"
      },
      "source": [
        "# Preparación del entorno de trabajo\n",
        "\n",
        "Lo primero que vamos a hacer es preparar el entorno de trabajo. Para ello, descargaremos e importaremos las librerías necesarias:"
      ]
    },
    {
      "cell_type": "markdown",
      "metadata": {
        "id": "LciSHcLdSfz6"
      },
      "source": [
        "Instalamos las librerías necesarias:"
      ]
    },
    {
      "cell_type": "code",
      "metadata": {
        "colab": {
          "base_uri": "https://localhost:8080/"
        },
        "id": "dPm3GuOCSZva",
        "outputId": "a1615490-5793-4265-e77b-528db17f9e48"
      },
      "source": [
        "!pip install fastai --upgrade -q"
      ],
      "execution_count": 1,
      "outputs": [
        {
          "output_type": "stream",
          "text": [
            "\u001b[K     |████████████████████████████████| 204kB 5.0MB/s \n",
            "\u001b[K     |████████████████████████████████| 61kB 4.7MB/s \n",
            "\u001b[?25h"
          ],
          "name": "stdout"
        }
      ]
    },
    {
      "cell_type": "markdown",
      "metadata": {
        "id": "4M8GKy-CNhqf"
      },
      "source": [
        "Las importamos:"
      ]
    },
    {
      "cell_type": "code",
      "metadata": {
        "id": "HWWQmbrJT39F"
      },
      "source": [
        "from fastai.vision.all import *\n",
        "import os\n",
        "import pandas as pd\n",
        "from google.colab import files\n",
        "from sklearn.model_selection import train_test_split\n",
        "import shutil"
      ],
      "execution_count": 2,
      "outputs": []
    },
    {
      "cell_type": "markdown",
      "metadata": {
        "id": "AOgeeTkLSWfF"
      },
      "source": [
        "Descargamos las imágenes:"
      ]
    },
    {
      "cell_type": "code",
      "metadata": {
        "colab": {
          "base_uri": "https://localhost:8080/"
        },
        "id": "7tIxNVl-N0ML",
        "outputId": "c6e9dd83-11e2-4d51-fac4-07eaaab5fa7c"
      },
      "source": [
        "!wget https://www.dropbox.com/s/yqciiv18j73y578/riojamemoria.zip?dl=1 -O datos.zip -q\n",
        "!unzip datos.zip"
      ],
      "execution_count": 3,
      "outputs": [
        {
          "output_type": "stream",
          "text": [
            "Archive:  datos.zip\n",
            "  End-of-central-directory signature not found.  Either this file is not\n",
            "  a zipfile, or it constitutes one disk of a multi-part archive.  In the\n",
            "  latter case the central directory and zipfile comment will be found on\n",
            "  the last disk(s) of this archive.\n",
            "unzip:  cannot find zipfile directory in one of datos.zip or\n",
            "        datos.zip.zip, and cannot find datos.zip.ZIP, period.\n"
          ],
          "name": "stdout"
        }
      ]
    },
    {
      "cell_type": "markdown",
      "metadata": {
        "id": "wbqfrzyoVYiC"
      },
      "source": [
        "Una vez tenemos las imágenes, debemos descargar las etiquetas. Cada etiqueta se relaciona con su imagen correspondiente por un ID (el nombre de la imagen). Estas etiquetas son necesarias para poder entrenar nuestro modelo."
      ]
    },
    {
      "cell_type": "code",
      "metadata": {
        "id": "_D9ST_6qVeXL"
      },
      "source": [
        "!wget https://www.dropbox.com/s/acezkcl7d1wfevz/LaRiojaEnLaMemoria.csv?dl=1 -O data.csv -q"
      ],
      "execution_count": 6,
      "outputs": []
    },
    {
      "cell_type": "markdown",
      "metadata": {
        "id": "HUtD1zQXcCcd"
      },
      "source": [
        "Importamos los datos del CSV a un dataframe (usando pandas) para poder tratarlos."
      ]
    },
    {
      "cell_type": "code",
      "metadata": {
        "colab": {
          "base_uri": "https://localhost:8080/",
          "height": 289
        },
        "id": "cVvuH-TTcM9t",
        "outputId": "3cf4b7c8-a6b0-4352-a97d-8b7f3f17c5f8"
      },
      "source": [
        "df = pd.read_csv(\"data.csv\")\n",
        "df.head()"
      ],
      "execution_count": 17,
      "outputs": [
        {
          "output_type": "execute_result",
          "data": {
            "text/html": [
              "<div>\n",
              "<style scoped>\n",
              "    .dataframe tbody tr th:only-of-type {\n",
              "        vertical-align: middle;\n",
              "    }\n",
              "\n",
              "    .dataframe tbody tr th {\n",
              "        vertical-align: top;\n",
              "    }\n",
              "\n",
              "    .dataframe thead th {\n",
              "        text-align: right;\n",
              "    }\n",
              "</style>\n",
              "<table border=\"1\" class=\"dataframe\">\n",
              "  <thead>\n",
              "    <tr style=\"text-align: right;\">\n",
              "      <th></th>\n",
              "      <th>ID_NUM</th>\n",
              "      <th>IDENT</th>\n",
              "      <th>TITULO</th>\n",
              "      <th>TITULAR</th>\n",
              "      <th>DESCRIPCION</th>\n",
              "      <th>PALABRAS_CLAVE</th>\n",
              "      <th>ANNO</th>\n",
              "      <th>LUGAR</th>\n",
              "      <th>LOCALIDAD</th>\n",
              "      <th>PROVINCIA</th>\n",
              "      <th>PAIS</th>\n",
              "      <th>PROVEEDOR</th>\n",
              "    </tr>\n",
              "  </thead>\n",
              "  <tbody>\n",
              "    <tr>\n",
              "      <th>0</th>\n",
              "      <td>80</td>\n",
              "      <td>LRM-2008/00014-Imagen</td>\n",
              "      <td>Foto con los abuelos</td>\n",
              "      <td>Fotografía de los abuelos con la nieta de dos años en Hormilleja</td>\n",
              "      <td>NaN</td>\n",
              "      <td>NaN</td>\n",
              "      <td>1961</td>\n",
              "      <td>NaN</td>\n",
              "      <td>Hormilleja</td>\n",
              "      <td>NaN</td>\n",
              "      <td>NaN</td>\n",
              "      <td>NaN</td>\n",
              "    </tr>\n",
              "    <tr>\n",
              "      <th>1</th>\n",
              "      <td>81</td>\n",
              "      <td>LRM-2008/00015-Imagen</td>\n",
              "      <td>Madre e hijos en el Espolón</td>\n",
              "      <td>Madre e hijos en el Espolón</td>\n",
              "      <td>NaN</td>\n",
              "      <td>NaN</td>\n",
              "      <td>1961</td>\n",
              "      <td>NaN</td>\n",
              "      <td>Logroño</td>\n",
              "      <td>NaN</td>\n",
              "      <td>NaN</td>\n",
              "      <td>NaN</td>\n",
              "    </tr>\n",
              "    <tr>\n",
              "      <th>2</th>\n",
              "      <td>82</td>\n",
              "      <td>LRM-2008/00016-Imagen</td>\n",
              "      <td>SrTraspaderne</td>\n",
              "      <td>Severiano Traspaderne con su furgoneta Citroen 2CV de reparto de piensos</td>\n",
              "      <td>NaN</td>\n",
              "      <td>NaN</td>\n",
              "      <td>1964</td>\n",
              "      <td>NaN</td>\n",
              "      <td>Logroño</td>\n",
              "      <td>NaN</td>\n",
              "      <td>NaN</td>\n",
              "      <td>NaN</td>\n",
              "    </tr>\n",
              "    <tr>\n",
              "      <th>3</th>\n",
              "      <td>83</td>\n",
              "      <td>LRM-2008/00017-Imagen</td>\n",
              "      <td>Invierno en moto</td>\n",
              "      <td>Sr Aragón y Sr García pertrechados para soportar el invierno en su motol (Rieju 125)</td>\n",
              "      <td>NaN</td>\n",
              "      <td>NaN</td>\n",
              "      <td>1964</td>\n",
              "      <td>NaN</td>\n",
              "      <td>Logroño</td>\n",
              "      <td>NaN</td>\n",
              "      <td>NaN</td>\n",
              "      <td>NaN</td>\n",
              "    </tr>\n",
              "    <tr>\n",
              "      <th>4</th>\n",
              "      <td>84</td>\n",
              "      <td>LRM-2008/00018-Imagen</td>\n",
              "      <td>Empujando el microcoche</td>\n",
              "      <td>Empujando un BMW Isetta</td>\n",
              "      <td>NaN</td>\n",
              "      <td>NaN</td>\n",
              "      <td>1962</td>\n",
              "      <td>NaN</td>\n",
              "      <td>Logroño</td>\n",
              "      <td>NaN</td>\n",
              "      <td>NaN</td>\n",
              "      <td>NaN</td>\n",
              "    </tr>\n",
              "  </tbody>\n",
              "</table>\n",
              "</div>"
            ],
            "text/plain": [
              "   ID_NUM                  IDENT  ... PAIS PROVEEDOR\n",
              "0      80  LRM-2008/00014-Imagen  ...  NaN       NaN\n",
              "1      81  LRM-2008/00015-Imagen  ...  NaN       NaN\n",
              "2      82  LRM-2008/00016-Imagen  ...  NaN       NaN\n",
              "3      83  LRM-2008/00017-Imagen  ...  NaN       NaN\n",
              "4      84  LRM-2008/00018-Imagen  ...  NaN       NaN\n",
              "\n",
              "[5 rows x 12 columns]"
            ]
          },
          "metadata": {
            "tags": []
          },
          "execution_count": 17
        }
      ]
    },
    {
      "cell_type": "markdown",
      "metadata": {
        "id": "aquo3A3j4zJO"
      },
      "source": [
        "Ahora, creamos una columna adicional que nos permita clasificar las imágenes según su decada:"
      ]
    },
    {
      "cell_type": "code",
      "metadata": {
        "id": "7CR_59VK5f5V",
        "outputId": "eeea1291-a301-4d83-9650-4e9c9f4abb38",
        "colab": {
          "base_uri": "https://localhost:8080/",
          "height": 289
        }
      },
      "source": [
        "años = df['ANNO'].values\n",
        "decadas = []\n",
        "for año in años:\n",
        "  decadas.append(str(año)[:3] + '0')\n",
        "df['DECADA'] = decadas\n",
        "df.head()"
      ],
      "execution_count": 21,
      "outputs": [
        {
          "output_type": "execute_result",
          "data": {
            "text/html": [
              "<div>\n",
              "<style scoped>\n",
              "    .dataframe tbody tr th:only-of-type {\n",
              "        vertical-align: middle;\n",
              "    }\n",
              "\n",
              "    .dataframe tbody tr th {\n",
              "        vertical-align: top;\n",
              "    }\n",
              "\n",
              "    .dataframe thead th {\n",
              "        text-align: right;\n",
              "    }\n",
              "</style>\n",
              "<table border=\"1\" class=\"dataframe\">\n",
              "  <thead>\n",
              "    <tr style=\"text-align: right;\">\n",
              "      <th></th>\n",
              "      <th>ID_NUM</th>\n",
              "      <th>IDENT</th>\n",
              "      <th>TITULO</th>\n",
              "      <th>TITULAR</th>\n",
              "      <th>DESCRIPCION</th>\n",
              "      <th>PALABRAS_CLAVE</th>\n",
              "      <th>ANNO</th>\n",
              "      <th>LUGAR</th>\n",
              "      <th>LOCALIDAD</th>\n",
              "      <th>PROVINCIA</th>\n",
              "      <th>PAIS</th>\n",
              "      <th>PROVEEDOR</th>\n",
              "      <th>DECADA</th>\n",
              "    </tr>\n",
              "  </thead>\n",
              "  <tbody>\n",
              "    <tr>\n",
              "      <th>0</th>\n",
              "      <td>80</td>\n",
              "      <td>LRM-2008/00014-Imagen</td>\n",
              "      <td>Foto con los abuelos</td>\n",
              "      <td>Fotografía de los abuelos con la nieta de dos años en Hormilleja</td>\n",
              "      <td>NaN</td>\n",
              "      <td>NaN</td>\n",
              "      <td>1961</td>\n",
              "      <td>NaN</td>\n",
              "      <td>Hormilleja</td>\n",
              "      <td>NaN</td>\n",
              "      <td>NaN</td>\n",
              "      <td>NaN</td>\n",
              "      <td>1960</td>\n",
              "    </tr>\n",
              "    <tr>\n",
              "      <th>1</th>\n",
              "      <td>81</td>\n",
              "      <td>LRM-2008/00015-Imagen</td>\n",
              "      <td>Madre e hijos en el Espolón</td>\n",
              "      <td>Madre e hijos en el Espolón</td>\n",
              "      <td>NaN</td>\n",
              "      <td>NaN</td>\n",
              "      <td>1961</td>\n",
              "      <td>NaN</td>\n",
              "      <td>Logroño</td>\n",
              "      <td>NaN</td>\n",
              "      <td>NaN</td>\n",
              "      <td>NaN</td>\n",
              "      <td>1960</td>\n",
              "    </tr>\n",
              "    <tr>\n",
              "      <th>2</th>\n",
              "      <td>82</td>\n",
              "      <td>LRM-2008/00016-Imagen</td>\n",
              "      <td>SrTraspaderne</td>\n",
              "      <td>Severiano Traspaderne con su furgoneta Citroen 2CV de reparto de piensos</td>\n",
              "      <td>NaN</td>\n",
              "      <td>NaN</td>\n",
              "      <td>1964</td>\n",
              "      <td>NaN</td>\n",
              "      <td>Logroño</td>\n",
              "      <td>NaN</td>\n",
              "      <td>NaN</td>\n",
              "      <td>NaN</td>\n",
              "      <td>1960</td>\n",
              "    </tr>\n",
              "    <tr>\n",
              "      <th>3</th>\n",
              "      <td>83</td>\n",
              "      <td>LRM-2008/00017-Imagen</td>\n",
              "      <td>Invierno en moto</td>\n",
              "      <td>Sr Aragón y Sr García pertrechados para soportar el invierno en su motol (Rieju 125)</td>\n",
              "      <td>NaN</td>\n",
              "      <td>NaN</td>\n",
              "      <td>1964</td>\n",
              "      <td>NaN</td>\n",
              "      <td>Logroño</td>\n",
              "      <td>NaN</td>\n",
              "      <td>NaN</td>\n",
              "      <td>NaN</td>\n",
              "      <td>1960</td>\n",
              "    </tr>\n",
              "    <tr>\n",
              "      <th>4</th>\n",
              "      <td>84</td>\n",
              "      <td>LRM-2008/00018-Imagen</td>\n",
              "      <td>Empujando el microcoche</td>\n",
              "      <td>Empujando un BMW Isetta</td>\n",
              "      <td>NaN</td>\n",
              "      <td>NaN</td>\n",
              "      <td>1962</td>\n",
              "      <td>NaN</td>\n",
              "      <td>Logroño</td>\n",
              "      <td>NaN</td>\n",
              "      <td>NaN</td>\n",
              "      <td>NaN</td>\n",
              "      <td>1960</td>\n",
              "    </tr>\n",
              "  </tbody>\n",
              "</table>\n",
              "</div>"
            ],
            "text/plain": [
              "   ID_NUM                  IDENT  ... PROVEEDOR DECADA\n",
              "0      80  LRM-2008/00014-Imagen  ...       NaN   1960\n",
              "1      81  LRM-2008/00015-Imagen  ...       NaN   1960\n",
              "2      82  LRM-2008/00016-Imagen  ...       NaN   1960\n",
              "3      83  LRM-2008/00017-Imagen  ...       NaN   1960\n",
              "4      84  LRM-2008/00018-Imagen  ...       NaN   1960\n",
              "\n",
              "[5 rows x 13 columns]"
            ]
          },
          "metadata": {
            "tags": []
          },
          "execution_count": 21
        }
      ]
    },
    {
      "cell_type": "markdown",
      "metadata": {
        "id": "dPaGxGJsl59j"
      },
      "source": [
        "Finalmente, etiquetamos las imágenes a partir de la información de los metadatos.\n",
        "\n",
        "Para ello, vamos a obtener lAs diferentes décadas en las que están tomadas las imágenes:"
      ]
    },
    {
      "cell_type": "code",
      "metadata": {
        "id": "muqVSNJKl5X0",
        "colab": {
          "base_uri": "https://localhost:8080/"
        },
        "outputId": "c888ef57-08ad-4ab0-d879-0b54d867863c"
      },
      "source": [
        "decades = set(df['DECADA'])\n",
        "print(decades)"
      ],
      "execution_count": 33,
      "outputs": [
        {
          "output_type": "stream",
          "text": [
            "{'1910', '1950', '1900', '1860', '1930', '1980', '1940', '1990', '1970', '1880', '1890', '1920', '1870', '1960'}\n"
          ],
          "name": "stdout"
        }
      ]
    },
    {
      "cell_type": "markdown",
      "metadata": {
        "id": "NCCeU4wq22jq"
      },
      "source": [
        "Creamos las carpetas contenedoras. El nombre de la carpeta es el año en que la foto está tomada."
      ]
    },
    {
      "cell_type": "code",
      "metadata": {
        "id": "CNsSRbBz3iWX"
      },
      "source": [
        "initialPath = Path('1')\n",
        "processedPath = Path('data')\n",
        "for decade in decades:\n",
        "  (processedPath/str(decade)).mkdir(parents=True,exist_ok=True)"
      ],
      "execution_count": 34,
      "outputs": []
    },
    {
      "cell_type": "markdown",
      "metadata": {
        "id": "V5A23oql349Z"
      },
      "source": [
        "Solo falta meter en cada carpeta las imágenes correspondientes. Para ello, definimos dos funciones:\n",
        "- getIdFromPath: devuelve el id de la imagen según su path.\n",
        "- getImageDecadeById(): devuelve la década de la imagen según su id."
      ]
    },
    {
      "cell_type": "code",
      "metadata": {
        "id": "VfgZP5Ah8d5p"
      },
      "source": [
        "def getIdFromPath(path):\n",
        "  pathAsString = str(path)\n",
        "  pointIndex = pathAsString.index(\".\")\n",
        "  pathAsString = pathAsString[2:pointIndex]\n",
        "  return pathAsString"
      ],
      "execution_count": 35,
      "outputs": []
    },
    {
      "cell_type": "code",
      "metadata": {
        "id": "uBU-WAae8LpQ"
      },
      "source": [
        "def getImageDecadeById(id):\n",
        "  try:\n",
        "    return df[df['ID_NUM'] == int(id)]['DECADA'].values[0]\n",
        "  except:\n",
        "    return -1"
      ],
      "execution_count": 36,
      "outputs": []
    },
    {
      "cell_type": "markdown",
      "metadata": {
        "id": "B1Mf5r9uPJFc"
      },
      "source": [
        "Para cada imagen, obtenemos su id, buscamos su año en la tabla y la movemos a la carpeta del año a la que pertenece.\n",
        "\n",
        "Si la imagen no tuviere un año asignado, quedaría eliminada (estas imagenes no nos servieren para entrenar el modelo)."
      ]
    },
    {
      "cell_type": "code",
      "metadata": {
        "id": "yy_377cC39XG"
      },
      "source": [
        "images = get_image_files(initialPath)\n",
        "\n",
        "for image in images:\n",
        "  imageId = getIdFromPath(image)\n",
        "  imageYear = getImageYearById(imageId)\n",
        "  if imageYear != -1:\n",
        "    shutil.move(str(image),processedpath/(str(imageYear)+'/'+image.name))\n",
        "  else:\n",
        "    print(\"No data for image \" + str(id))\n",
        "    os.remove(image)"
      ],
      "execution_count": null,
      "outputs": []
    },
    {
      "cell_type": "markdown",
      "metadata": {
        "id": "6FlCeSHhFq8B"
      },
      "source": [
        "Como se puede observar, hay algunas imágenes que no están recogidas en la tabla, por lo que no las podremos usar.\n",
        "\n",
        "Finalmente, eliminamos las carpetas y archivos que ya no vamos a utilizar, así como las imágenes inexistentes en la tabla."
      ]
    },
    {
      "cell_type": "code",
      "metadata": {
        "id": "TUZ4861TGAcu"
      },
      "source": [
        "shutil.rmtree('1')\n",
        "os.remove('data.csv')\n",
        "os.remove('datos.zip')"
      ],
      "execution_count": null,
      "outputs": []
    },
    {
      "cell_type": "markdown",
      "metadata": {
        "id": "NVewThksGOpk"
      },
      "source": [
        "## Separación en entrenamiento y test"
      ]
    },
    {
      "cell_type": "code",
      "metadata": {
        "id": "K3YOSNtVGRN5"
      },
      "source": [
        "TODO"
      ],
      "execution_count": null,
      "outputs": []
    }
  ]
}