{
  "nbformat": 4,
  "nbformat_minor": 0,
  "metadata": {
    "colab": {
      "name": "Untitled0.ipynb",
      "provenance": [],
      "toc_visible": true,
      "include_colab_link": true
    },
    "kernelspec": {
      "name": "python3",
      "display_name": "Python 3"
    },
    "language_info": {
      "name": "python"
    }
  },
  "cells": [
    {
      "cell_type": "markdown",
      "metadata": {
        "id": "view-in-github",
        "colab_type": "text"
      },
      "source": [
        "<a href=\"https://colab.research.google.com/github/IA2021UR/trabajo-ia-en-la-comunidad-de-la-rioja-equipo-11/blob/main/Primer%20modelo.ipynb\" target=\"_parent\"><img src=\"https://colab.research.google.com/assets/colab-badge.svg\" alt=\"Open In Colab\"/></a>"
      ]
    },
    {
      "cell_type": "markdown",
      "metadata": {
        "id": "eJgBNMkrOcSS"
      },
      "source": [
        "# Primer modelo"
      ]
    },
    {
      "cell_type": "markdown",
      "metadata": {
        "id": "bHp06YuymHvR"
      },
      "source": [
        "## Preparación del entorno de trabajo\n",
        "\n",
        "Lo primero que vamos a hacer es preparar el entorno de trabajo. Para ello, descargaremos e importaremos las librerías necesarias:"
      ]
    },
    {
      "cell_type": "markdown",
      "metadata": {
        "id": "LciSHcLdSfz6"
      },
      "source": [
        "Instalamos las librerías necesarias:"
      ]
    },
    {
      "cell_type": "code",
      "metadata": {
        "colab": {
          "base_uri": "https://localhost:8080/"
        },
        "id": "dPm3GuOCSZva",
        "outputId": "9b0ee997-3f16-4073-e056-7c588bde2af5"
      },
      "source": [
        "!pip install fastai --upgrade -q"
      ],
      "execution_count": 1,
      "outputs": [
        {
          "output_type": "stream",
          "text": [
            "\u001b[K     |████████████████████████████████| 204kB 4.1MB/s \n",
            "\u001b[K     |████████████████████████████████| 61kB 5.6MB/s \n",
            "\u001b[?25h"
          ],
          "name": "stdout"
        }
      ]
    },
    {
      "cell_type": "markdown",
      "metadata": {
        "id": "4M8GKy-CNhqf"
      },
      "source": [
        "Las importamos:"
      ]
    },
    {
      "cell_type": "code",
      "metadata": {
        "id": "HWWQmbrJT39F"
      },
      "source": [
        "from fastai.vision.all import *\n",
        "import os\n",
        "import pandas as pd\n",
        "from google.colab import files\n",
        "from sklearn.model_selection import train_test_split\n",
        "import shutil"
      ],
      "execution_count": 2,
      "outputs": []
    },
    {
      "cell_type": "markdown",
      "metadata": {
        "id": "AOgeeTkLSWfF"
      },
      "source": [
        "Descargamos las imágenes:"
      ]
    },
    {
      "cell_type": "code",
      "metadata": {
        "colab": {
          "base_uri": "https://localhost:8080/"
        },
        "id": "7tIxNVl-N0ML",
        "outputId": "646a8fb9-e3d9-45b7-a7e2-a4a457ce0e18"
      },
      "source": [
        "!wget https://drive.google.com/file/d/1WS7kotw0iuFxMpzGkiaNVWm8SLr_uNT4/view?usp=sharing -O datos.csv"
      ],
      "execution_count": 17,
      "outputs": [
        {
          "output_type": "stream",
          "text": [
            "--2021-05-21 19:37:12--  https://drive.google.com/file/d/1WS7kotw0iuFxMpzGkiaNVWm8SLr_uNT4/view?usp=sharing\n",
            "Resolving drive.google.com (drive.google.com)... 64.233.170.102, 64.233.170.139, 64.233.170.100, ...\n",
            "Connecting to drive.google.com (drive.google.com)|64.233.170.102|:443... connected.\n",
            "HTTP request sent, awaiting response... 200 OK\n",
            "Length: unspecified [text/html]\n",
            "Saving to: ‘datos.csv’\n",
            "\n",
            "\rdatos.csv               [<=>                 ]       0  --.-KB/s               \rdatos.csv               [ <=>                ]  71.26K  --.-KB/s    in 0.004s  \n",
            "\n",
            "2021-05-21 19:37:12 (19.4 MB/s) - ‘datos.csv’ saved [72975]\n",
            "\n"
          ],
          "name": "stdout"
        }
      ]
    },
    {
      "cell_type": "code",
      "metadata": {
        "id": "pSSRqtpITdaL"
      },
      "source": [
        "!unzip datos.zip"
      ],
      "execution_count": null,
      "outputs": []
    },
    {
      "cell_type": "markdown",
      "metadata": {
        "id": "wbqfrzyoVYiC"
      },
      "source": [
        "Una vez tenemos las imágenes, debemos descargar las etiquetas. Cada etiqueta se relaciona con su imagen correspondiente por un ID (el nombre de la imagen). Estas etiquetas son necesarias para poder entrenar nuestro modelo."
      ]
    },
    {
      "cell_type": "code",
      "metadata": {
        "id": "_D9ST_6qVeXL"
      },
      "source": [
        "!wget https://www.dropbox.com/s/acezkcl7d1wfevz/LaRiojaEnLaMemoria.csv?dl=1 -O data.csv -q"
      ],
      "execution_count": 3,
      "outputs": []
    },
    {
      "cell_type": "markdown",
      "metadata": {
        "id": "HUtD1zQXcCcd"
      },
      "source": [
        "Importamos los datos del CSV a un dataframe (usando pandas) para poder tratarlos."
      ]
    },
    {
      "cell_type": "code",
      "metadata": {
        "colab": {
          "base_uri": "https://localhost:8080/",
          "height": 289
        },
        "id": "cVvuH-TTcM9t",
        "outputId": "d2ad2bf4-d5b8-4b82-8d64-b98cba720d8e"
      },
      "source": [
        "df = pd.read_csv(\"data.csv\")\n",
        "df.head()"
      ],
      "execution_count": 4,
      "outputs": [
        {
          "output_type": "execute_result",
          "data": {
            "text/html": [
              "<div>\n",
              "<style scoped>\n",
              "    .dataframe tbody tr th:only-of-type {\n",
              "        vertical-align: middle;\n",
              "    }\n",
              "\n",
              "    .dataframe tbody tr th {\n",
              "        vertical-align: top;\n",
              "    }\n",
              "\n",
              "    .dataframe thead th {\n",
              "        text-align: right;\n",
              "    }\n",
              "</style>\n",
              "<table border=\"1\" class=\"dataframe\">\n",
              "  <thead>\n",
              "    <tr style=\"text-align: right;\">\n",
              "      <th></th>\n",
              "      <th>ID_NUM</th>\n",
              "      <th>IDENT</th>\n",
              "      <th>TITULO</th>\n",
              "      <th>TITULAR</th>\n",
              "      <th>DESCRIPCION</th>\n",
              "      <th>PALABRAS_CLAVE</th>\n",
              "      <th>ANNO</th>\n",
              "      <th>LUGAR</th>\n",
              "      <th>LOCALIDAD</th>\n",
              "      <th>PROVINCIA</th>\n",
              "      <th>PAIS</th>\n",
              "      <th>PROVEEDOR</th>\n",
              "    </tr>\n",
              "  </thead>\n",
              "  <tbody>\n",
              "    <tr>\n",
              "      <th>0</th>\n",
              "      <td>80</td>\n",
              "      <td>LRM-2008/00014-Imagen</td>\n",
              "      <td>Foto con los abuelos</td>\n",
              "      <td>Fotografía de los abuelos con la nieta de dos años en Hormilleja</td>\n",
              "      <td>NaN</td>\n",
              "      <td>NaN</td>\n",
              "      <td>1961</td>\n",
              "      <td>NaN</td>\n",
              "      <td>Hormilleja</td>\n",
              "      <td>NaN</td>\n",
              "      <td>NaN</td>\n",
              "      <td>NaN</td>\n",
              "    </tr>\n",
              "    <tr>\n",
              "      <th>1</th>\n",
              "      <td>81</td>\n",
              "      <td>LRM-2008/00015-Imagen</td>\n",
              "      <td>Madre e hijos en el Espolón</td>\n",
              "      <td>Madre e hijos en el Espolón</td>\n",
              "      <td>NaN</td>\n",
              "      <td>NaN</td>\n",
              "      <td>1961</td>\n",
              "      <td>NaN</td>\n",
              "      <td>Logroño</td>\n",
              "      <td>NaN</td>\n",
              "      <td>NaN</td>\n",
              "      <td>NaN</td>\n",
              "    </tr>\n",
              "    <tr>\n",
              "      <th>2</th>\n",
              "      <td>82</td>\n",
              "      <td>LRM-2008/00016-Imagen</td>\n",
              "      <td>SrTraspaderne</td>\n",
              "      <td>Severiano Traspaderne con su furgoneta Citroen 2CV de reparto de piensos</td>\n",
              "      <td>NaN</td>\n",
              "      <td>NaN</td>\n",
              "      <td>1964</td>\n",
              "      <td>NaN</td>\n",
              "      <td>Logroño</td>\n",
              "      <td>NaN</td>\n",
              "      <td>NaN</td>\n",
              "      <td>NaN</td>\n",
              "    </tr>\n",
              "    <tr>\n",
              "      <th>3</th>\n",
              "      <td>83</td>\n",
              "      <td>LRM-2008/00017-Imagen</td>\n",
              "      <td>Invierno en moto</td>\n",
              "      <td>Sr Aragón y Sr García pertrechados para soportar el invierno en su motol (Rieju 125)</td>\n",
              "      <td>NaN</td>\n",
              "      <td>NaN</td>\n",
              "      <td>1964</td>\n",
              "      <td>NaN</td>\n",
              "      <td>Logroño</td>\n",
              "      <td>NaN</td>\n",
              "      <td>NaN</td>\n",
              "      <td>NaN</td>\n",
              "    </tr>\n",
              "    <tr>\n",
              "      <th>4</th>\n",
              "      <td>84</td>\n",
              "      <td>LRM-2008/00018-Imagen</td>\n",
              "      <td>Empujando el microcoche</td>\n",
              "      <td>Empujando un BMW Isetta</td>\n",
              "      <td>NaN</td>\n",
              "      <td>NaN</td>\n",
              "      <td>1962</td>\n",
              "      <td>NaN</td>\n",
              "      <td>Logroño</td>\n",
              "      <td>NaN</td>\n",
              "      <td>NaN</td>\n",
              "      <td>NaN</td>\n",
              "    </tr>\n",
              "  </tbody>\n",
              "</table>\n",
              "</div>"
            ],
            "text/plain": [
              "   ID_NUM                  IDENT  ... PAIS PROVEEDOR\n",
              "0      80  LRM-2008/00014-Imagen  ...  NaN       NaN\n",
              "1      81  LRM-2008/00015-Imagen  ...  NaN       NaN\n",
              "2      82  LRM-2008/00016-Imagen  ...  NaN       NaN\n",
              "3      83  LRM-2008/00017-Imagen  ...  NaN       NaN\n",
              "4      84  LRM-2008/00018-Imagen  ...  NaN       NaN\n",
              "\n",
              "[5 rows x 12 columns]"
            ]
          },
          "metadata": {
            "tags": []
          },
          "execution_count": 4
        }
      ]
    },
    {
      "cell_type": "markdown",
      "metadata": {
        "id": "aquo3A3j4zJO"
      },
      "source": [
        "Ahora, creamos una columna adicional que nos permita clasificar las imágenes según su decada:"
      ]
    },
    {
      "cell_type": "code",
      "metadata": {
        "colab": {
          "base_uri": "https://localhost:8080/",
          "height": 289
        },
        "id": "7CR_59VK5f5V",
        "outputId": "2f6eef48-7210-4728-d8bc-ddf0d5fa73f5"
      },
      "source": [
        "años = df['ANNO'].values\n",
        "decadas = []\n",
        "for año in años:\n",
        "  decadas.append(str(año)[:3] + '0')\n",
        "df['DECADA'] = decadas\n",
        "df.head()"
      ],
      "execution_count": 5,
      "outputs": [
        {
          "output_type": "execute_result",
          "data": {
            "text/html": [
              "<div>\n",
              "<style scoped>\n",
              "    .dataframe tbody tr th:only-of-type {\n",
              "        vertical-align: middle;\n",
              "    }\n",
              "\n",
              "    .dataframe tbody tr th {\n",
              "        vertical-align: top;\n",
              "    }\n",
              "\n",
              "    .dataframe thead th {\n",
              "        text-align: right;\n",
              "    }\n",
              "</style>\n",
              "<table border=\"1\" class=\"dataframe\">\n",
              "  <thead>\n",
              "    <tr style=\"text-align: right;\">\n",
              "      <th></th>\n",
              "      <th>ID_NUM</th>\n",
              "      <th>IDENT</th>\n",
              "      <th>TITULO</th>\n",
              "      <th>TITULAR</th>\n",
              "      <th>DESCRIPCION</th>\n",
              "      <th>PALABRAS_CLAVE</th>\n",
              "      <th>ANNO</th>\n",
              "      <th>LUGAR</th>\n",
              "      <th>LOCALIDAD</th>\n",
              "      <th>PROVINCIA</th>\n",
              "      <th>PAIS</th>\n",
              "      <th>PROVEEDOR</th>\n",
              "      <th>DECADA</th>\n",
              "    </tr>\n",
              "  </thead>\n",
              "  <tbody>\n",
              "    <tr>\n",
              "      <th>0</th>\n",
              "      <td>80</td>\n",
              "      <td>LRM-2008/00014-Imagen</td>\n",
              "      <td>Foto con los abuelos</td>\n",
              "      <td>Fotografía de los abuelos con la nieta de dos años en Hormilleja</td>\n",
              "      <td>NaN</td>\n",
              "      <td>NaN</td>\n",
              "      <td>1961</td>\n",
              "      <td>NaN</td>\n",
              "      <td>Hormilleja</td>\n",
              "      <td>NaN</td>\n",
              "      <td>NaN</td>\n",
              "      <td>NaN</td>\n",
              "      <td>1960</td>\n",
              "    </tr>\n",
              "    <tr>\n",
              "      <th>1</th>\n",
              "      <td>81</td>\n",
              "      <td>LRM-2008/00015-Imagen</td>\n",
              "      <td>Madre e hijos en el Espolón</td>\n",
              "      <td>Madre e hijos en el Espolón</td>\n",
              "      <td>NaN</td>\n",
              "      <td>NaN</td>\n",
              "      <td>1961</td>\n",
              "      <td>NaN</td>\n",
              "      <td>Logroño</td>\n",
              "      <td>NaN</td>\n",
              "      <td>NaN</td>\n",
              "      <td>NaN</td>\n",
              "      <td>1960</td>\n",
              "    </tr>\n",
              "    <tr>\n",
              "      <th>2</th>\n",
              "      <td>82</td>\n",
              "      <td>LRM-2008/00016-Imagen</td>\n",
              "      <td>SrTraspaderne</td>\n",
              "      <td>Severiano Traspaderne con su furgoneta Citroen 2CV de reparto de piensos</td>\n",
              "      <td>NaN</td>\n",
              "      <td>NaN</td>\n",
              "      <td>1964</td>\n",
              "      <td>NaN</td>\n",
              "      <td>Logroño</td>\n",
              "      <td>NaN</td>\n",
              "      <td>NaN</td>\n",
              "      <td>NaN</td>\n",
              "      <td>1960</td>\n",
              "    </tr>\n",
              "    <tr>\n",
              "      <th>3</th>\n",
              "      <td>83</td>\n",
              "      <td>LRM-2008/00017-Imagen</td>\n",
              "      <td>Invierno en moto</td>\n",
              "      <td>Sr Aragón y Sr García pertrechados para soportar el invierno en su motol (Rieju 125)</td>\n",
              "      <td>NaN</td>\n",
              "      <td>NaN</td>\n",
              "      <td>1964</td>\n",
              "      <td>NaN</td>\n",
              "      <td>Logroño</td>\n",
              "      <td>NaN</td>\n",
              "      <td>NaN</td>\n",
              "      <td>NaN</td>\n",
              "      <td>1960</td>\n",
              "    </tr>\n",
              "    <tr>\n",
              "      <th>4</th>\n",
              "      <td>84</td>\n",
              "      <td>LRM-2008/00018-Imagen</td>\n",
              "      <td>Empujando el microcoche</td>\n",
              "      <td>Empujando un BMW Isetta</td>\n",
              "      <td>NaN</td>\n",
              "      <td>NaN</td>\n",
              "      <td>1962</td>\n",
              "      <td>NaN</td>\n",
              "      <td>Logroño</td>\n",
              "      <td>NaN</td>\n",
              "      <td>NaN</td>\n",
              "      <td>NaN</td>\n",
              "      <td>1960</td>\n",
              "    </tr>\n",
              "  </tbody>\n",
              "</table>\n",
              "</div>"
            ],
            "text/plain": [
              "   ID_NUM                  IDENT  ... PROVEEDOR DECADA\n",
              "0      80  LRM-2008/00014-Imagen  ...       NaN   1960\n",
              "1      81  LRM-2008/00015-Imagen  ...       NaN   1960\n",
              "2      82  LRM-2008/00016-Imagen  ...       NaN   1960\n",
              "3      83  LRM-2008/00017-Imagen  ...       NaN   1960\n",
              "4      84  LRM-2008/00018-Imagen  ...       NaN   1960\n",
              "\n",
              "[5 rows x 13 columns]"
            ]
          },
          "metadata": {
            "tags": []
          },
          "execution_count": 5
        }
      ]
    },
    {
      "cell_type": "markdown",
      "metadata": {
        "id": "dPaGxGJsl59j"
      },
      "source": [
        "Finalmente, etiquetamos las imágenes a partir de la información de los metadatos.\n",
        "\n",
        "Para ello, vamos a obtener las diferentes décadas en las que están tomadas las imágenes:"
      ]
    },
    {
      "cell_type": "code",
      "metadata": {
        "id": "muqVSNJKl5X0",
        "colab": {
          "base_uri": "https://localhost:8080/"
        },
        "outputId": "b3990fc8-3e16-42ca-8ef9-4f2ad94571d1"
      },
      "source": [
        "decades = set(df['DECADA'])\n",
        "print(decades)"
      ],
      "execution_count": 6,
      "outputs": [
        {
          "output_type": "stream",
          "text": [
            "{'1900', '1910', '1880', '1860', '1970', '1890', '1870', '1960', '1940', '1930', '1990', '1980', '1920', '1950'}\n"
          ],
          "name": "stdout"
        }
      ]
    },
    {
      "cell_type": "markdown",
      "metadata": {
        "id": "NCCeU4wq22jq"
      },
      "source": [
        "Creamos las carpetas contenedoras. El nombre de la carpeta es el año en que la foto está tomada."
      ]
    },
    {
      "cell_type": "code",
      "metadata": {
        "id": "CNsSRbBz3iWX"
      },
      "source": [
        "path = Path('1')\n",
        "for decade in decades:\n",
        "  (path/str(decade)).mkdir(parents=True,exist_ok=True)"
      ],
      "execution_count": 7,
      "outputs": []
    },
    {
      "cell_type": "markdown",
      "metadata": {
        "id": "UC0odPpRG7p_"
      },
      "source": [
        "Antes de nada, eliminamos las imágenes que no puedan ser tratadas por la librería:"
      ]
    },
    {
      "cell_type": "code",
      "metadata": {
        "id": "VTTMA4WtG_0m"
      },
      "source": [
        "for image in verify_images(get_image_files(path)):\n",
        "  os.remove(str(image))"
      ],
      "execution_count": null,
      "outputs": []
    },
    {
      "cell_type": "markdown",
      "metadata": {
        "id": "V5A23oql349Z"
      },
      "source": [
        "Solo falta meter en cada carpeta las imágenes correspondientes. Para ello, definimos dos funciones:\n",
        "- getIdFromPath: devuelve el id de la imagen según su path.\n",
        "- getImageDecadeById(): devuelve la década de la imagen según su id."
      ]
    },
    {
      "cell_type": "code",
      "metadata": {
        "id": "VfgZP5Ah8d5p"
      },
      "source": [
        "def getIdFromPath(path):\n",
        "  pathAsString = str(path)\n",
        "  pointIndex = pathAsString.index(\".\")\n",
        "  pathAsString = pathAsString[2:pointIndex]\n",
        "  return pathAsString"
      ],
      "execution_count": 8,
      "outputs": []
    },
    {
      "cell_type": "code",
      "metadata": {
        "id": "uBU-WAae8LpQ"
      },
      "source": [
        "def getImageDecadeById(id):\n",
        "  try:\n",
        "    return df[df['ID_NUM'] == int(id)]['DECADA'].values[0]\n",
        "  except:\n",
        "    return -1"
      ],
      "execution_count": 9,
      "outputs": []
    },
    {
      "cell_type": "markdown",
      "metadata": {
        "id": "B1Mf5r9uPJFc"
      },
      "source": [
        "Para cada imagen, obtenemos su id, buscamos su década en la tabla y la movemos a la carpeta del año a la que pertenece.\n",
        "\n",
        "Si la imagen no tiene un año asignado o no está incluida en los metadatos, se elimina, ya que no podemos utilizarla para entrenar el modelo."
      ]
    },
    {
      "cell_type": "code",
      "metadata": {
        "id": "yy_377cC39XG"
      },
      "source": [
        "images = get_image_files(path)\n",
        "\n",
        "for image in images:\n",
        "  imageId = getIdFromPath(image)\n",
        "  imageYear = getImageYearById(imageId)\n",
        "  if imageYear != -1:\n",
        "    shutil.move(str(image),path/(str(imageYear)+'/'+image.name))\n",
        "  else:\n",
        "    print(\"No data for image \" + str(id))\n",
        "    os.remove(image)"
      ],
      "execution_count": null,
      "outputs": []
    },
    {
      "cell_type": "markdown",
      "metadata": {
        "id": "6FlCeSHhFq8B"
      },
      "source": [
        "Como se puede observar, hay algunas imágenes que no están recogidas en la tabla, por lo que no las podremos usar.\n",
        "\n",
        "Finalmente, eliminamos los archivos que ya no vamos a utilizar:"
      ]
    },
    {
      "cell_type": "code",
      "metadata": {
        "id": "TUZ4861TGAcu"
      },
      "source": [
        "os.remove('data.csv')\n",
        "os.remove('datos.zip')"
      ],
      "execution_count": null,
      "outputs": []
    },
    {
      "cell_type": "markdown",
      "metadata": {
        "id": "NVewThksGOpk"
      },
      "source": [
        "## Separación en entrenamiento y test"
      ]
    },
    {
      "cell_type": "markdown",
      "metadata": {
        "id": "LleU_bcAItMA"
      },
      "source": [
        "Una vez que tenemos las imágenes separadas por décadas, podemos diferenciar el conjunto de entrenamiento y el de test. Lo hemos hecho en este orden para asegurar que hay suficientes imágenes en cada categoría."
      ]
    },
    {
      "cell_type": "code",
      "metadata": {
        "id": "K3YOSNtVGRN5"
      },
      "source": [
        "finalPath = Path('data')\n",
        "trainPath = Path('data/train')\n",
        "testPath = Path('data/test')\n",
        "\n",
        "for decade in decades:\n",
        "  trainDecade, testDecade = train_test_split(get_image_files(path/(str(decade))),test_size=0.2,random_state=15)\n",
        "\n",
        "  for x in trainDecade:\n",
        "    shutil.move(str(x),finalPath/('train/' + str(decade) + '/'+x.name))\n",
        "\n",
        "  for x in testDecade:\n",
        "    shutil.move(str(x),finalPath/('test/' + str(year) + '/'+x.name))"
      ],
      "execution_count": null,
      "outputs": []
    },
    {
      "cell_type": "markdown",
      "metadata": {
        "id": "KV_DSj9TUsqr"
      },
      "source": [
        "Ya podemos eliminar la carpeta inicial:"
      ]
    },
    {
      "cell_type": "code",
      "metadata": {
        "id": "noLUvzDiUw3W"
      },
      "source": [
        "shutil.rmtree('1')"
      ],
      "execution_count": null,
      "outputs": []
    },
    {
      "cell_type": "markdown",
      "metadata": {
        "id": "OND3PvdFK4ao"
      },
      "source": [
        "## Definición del DataBlock y el DataLoader\n",
        "\n",
        "A continuación definiremos estos dos objetos necesarios para poder entrenar el modelo."
      ]
    },
    {
      "cell_type": "markdown",
      "metadata": {
        "id": "KnBSdDJtT5m5"
      },
      "source": [
        "### DataBlock\n",
        "\n",
        "El DataBlock es el objeto que, gracias a una serie de opciones que se especifican en su constructor, permite cargar las imágenes en el modelo mediante un DataLoader.\n",
        "\n"
      ]
    },
    {
      "cell_type": "code",
      "metadata": {
        "id": "9eu2PKrcSWUc"
      },
      "source": [
        "dataBlock = DataBlock(blocks = (ImageBlock, CategoryBlock),\n",
        "                 get_items=get_image_files, \n",
        "                 splitter=RandomSplitter(valid_pct=0.2,seed=42),\n",
        "                 get_y=parent_label,\n",
        "                 item_tfms = Resize(512),\n",
        "                 batch_tfms=aug_transforms(size=256,min_scale=0.75))"
      ],
      "execution_count": null,
      "outputs": []
    },
    {
      "cell_type": "markdown",
      "metadata": {
        "id": "j-23Ho7KT1A0"
      },
      "source": [
        "### DataLoader\n",
        "\n",
        "A partir del DataBlock, construimos el DataLoader. Es importante asignar un batch que sea una potencia de 2 para optimizar el uso de la GPU."
      ]
    },
    {
      "cell_type": "code",
      "metadata": {
        "id": "1uJgu0rmVFto"
      },
      "source": [
        "dataLoader = dataBlock.dataloaders(trainPath,bs=128)"
      ],
      "execution_count": null,
      "outputs": []
    },
    {
      "cell_type": "markdown",
      "metadata": {
        "id": "x5NvZQvpVKie"
      },
      "source": [
        "Ahora podemos visualizar un fragmento de nuestro dataset, así podemos comprobar que todo ha funcionado correctamente."
      ]
    },
    {
      "cell_type": "code",
      "metadata": {
        "id": "_ZZu6zDPVT0K"
      },
      "source": [
        "dataLoader.show_batch()"
      ],
      "execution_count": null,
      "outputs": []
    },
    {
      "cell_type": "markdown",
      "metadata": {
        "id": "Ow2hOeTMVgzq"
      },
      "source": [
        "## Creación del modelo\n",
        "\n",
        "Tal y como se explicó en el entregable 2, vamos a construir una red convolucional utilizando *transfer learning* con arquitectura ResNet 34."
      ]
    },
    {
      "cell_type": "code",
      "metadata": {
        "id": "RshH60NZZDk5"
      },
      "source": [
        "learn = cnn_learner(dataLoader,resnet18,metrics=accuracy).to_fp16()"
      ],
      "execution_count": null,
      "outputs": []
    },
    {
      "cell_type": "markdown",
      "metadata": {
        "id": "QxM6IXIyZM_9"
      },
      "source": [
        "### Entrenamiento de la red\n",
        "\n",
        "Utilizaremos la funcionalidad de fine tune disponible en FastAI."
      ]
    },
    {
      "cell_type": "code",
      "metadata": {
        "id": "AP8sLXIzZX6n"
      },
      "source": [
        "learn.fine_tune(10,base_lr=1e-3)"
      ],
      "execution_count": null,
      "outputs": []
    },
    {
      "cell_type": "markdown",
      "metadata": {
        "id": "OqtUfimIZeQ6"
      },
      "source": [
        "Lo exportamos para uso posterior:"
      ]
    },
    {
      "cell_type": "code",
      "metadata": {
        "id": "92lucBy0Zgvo"
      },
      "source": [
        "learn.export()"
      ],
      "execution_count": null,
      "outputs": []
    },
    {
      "cell_type": "markdown",
      "metadata": {
        "id": "txSvyvvWZ0g_"
      },
      "source": [
        "## Interpretación de los resultados\n",
        "\n",
        "Creamos una interpretación para poder ver los resultados"
      ]
    },
    {
      "cell_type": "code",
      "metadata": {
        "id": "znLdmDQsaRLz"
      },
      "source": [
        "interp = ClassificationInterpretation.from_learner(learn)"
      ],
      "execution_count": null,
      "outputs": []
    },
    {
      "cell_type": "markdown",
      "metadata": {
        "id": "MWd95NmRaRgT"
      },
      "source": [
        "Podemos visualizar la matriz de confusión, para ver cuántas veces ha acertado nuestro modelo."
      ]
    },
    {
      "cell_type": "code",
      "metadata": {
        "id": "yhh0zdO6bKmp"
      },
      "source": [
        "interp.plot_confusion_matrix()"
      ],
      "execution_count": null,
      "outputs": []
    },
    {
      "cell_type": "markdown",
      "metadata": {
        "id": "8Bu744n9bWqh"
      },
      "source": [
        "### Evaluación en el conjunto de test\n",
        "\n",
        "Tenemos que crear nuevos objetos DataBlock Y DataLoader. El primero lo construiremos con un splitter concreto que nos permite especificar la base de datos de test"
      ]
    },
    {
      "cell_type": "code",
      "metadata": {
        "id": "iNMZP1hSbZXU"
      },
      "source": [
        "dataBlockTest = DataBlock(blocks = (ImageBlock, CategoryBlock),\n",
        "                 get_items=get_image_files, \n",
        "                 splitter=GrandparentSplitter(valid_name='test'),\n",
        "                 get_y=parent_label,\n",
        "                 item_tfms = Resize(256),\n",
        "                 batch_tfms=aug_transforms(size=128,min_scale=0.75))\n",
        "dataLoaderTest = dataBlockTest.dataloaders(path,bs=128)"
      ],
      "execution_count": null,
      "outputs": []
    },
    {
      "cell_type": "markdown",
      "metadata": {
        "id": "UMYW9IrXdH70"
      },
      "source": [
        "Modificamos el anterior learner:"
      ]
    },
    {
      "cell_type": "code",
      "metadata": {
        "id": "-mZI1ofSdKOs"
      },
      "source": [
        "learn.dls = dataLoaderTest"
      ],
      "execution_count": null,
      "outputs": []
    },
    {
      "cell_type": "markdown",
      "metadata": {
        "id": "2RLdR7dAdOdh"
      },
      "source": [
        "Evaluamos el modelo mediante el método validate()."
      ]
    },
    {
      "cell_type": "code",
      "metadata": {
        "id": "4hH9WZLNdTei"
      },
      "source": [
        "learn.validate()"
      ],
      "execution_count": null,
      "outputs": []
    }
  ]
}