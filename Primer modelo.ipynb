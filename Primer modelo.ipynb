{
  "nbformat": 4,
  "nbformat_minor": 0,
  "metadata": {
    "colab": {
      "name": "Untitled0.ipynb",
      "provenance": [],
      "authorship_tag": "ABX9TyMLQOM7JEl3AeqpVi34vmQf",
      "include_colab_link": true
    },
    "kernelspec": {
      "name": "python3",
      "display_name": "Python 3"
    },
    "language_info": {
      "name": "python"
    }
  },
  "cells": [
    {
      "cell_type": "markdown",
      "metadata": {
        "id": "view-in-github",
        "colab_type": "text"
      },
      "source": [
        "<a href=\"https://colab.research.google.com/github/IA2021UR/trabajo-ia-en-la-comunidad-de-la-rioja-equipo-11/blob/main/Primer%20modelo.ipynb\" target=\"_parent\"><img src=\"https://colab.research.google.com/assets/colab-badge.svg\" alt=\"Open In Colab\"/></a>"
      ]
    },
    {
      "cell_type": "markdown",
      "metadata": {
        "id": "eJgBNMkrOcSS"
      },
      "source": [
        "# Primer modelo"
      ]
    },
    {
      "cell_type": "code",
      "metadata": {
        "colab": {
          "base_uri": "https://localhost:8080/"
        },
        "id": "7tIxNVl-N0ML",
        "outputId": "e9a22b7f-e2a8-43ea-822c-09976db46cc5"
      },
      "source": [
        "!wget https://unirioja-my.sharepoint.com/:x:/g/personal/joheras_unirioja_es/ETEcAGbnWDlHjhKzzxBFyAoBgCaD0GJZi-cX4-YIXtHBsA?e=LUSpNv -O datos.csv"
      ],
      "execution_count": 7,
      "outputs": [
        {
          "output_type": "stream",
          "text": [
            "--2021-05-18 11:55:39--  https://unirioja-my.sharepoint.com/:x:/g/personal/joheras_unirioja_es/ETEcAGbnWDlHjhKzzxBFyAoBgCaD0GJZi-cX4-YIXtHBsA?e=LUSpNv\n",
            "Resolving unirioja-my.sharepoint.com (unirioja-my.sharepoint.com)... 13.107.136.9\n",
            "Connecting to unirioja-my.sharepoint.com (unirioja-my.sharepoint.com)|13.107.136.9|:443... connected.\n",
            "HTTP request sent, awaiting response... 302 Found\n",
            "Location: https://unirioja-my.sharepoint.com/personal/joheras_unirioja_es/_layouts/15/Doc.aspx?sourcedoc=%7B66001c31-58e7-4739-8e12-b3cf1045c80a%7D&action=default&slrid=1b18c99f-30a2-b000-f874-6ae3d67a6d8b&originalPath=aHR0cHM6Ly91bmlyaW9qYS1teS5zaGFyZXBvaW50LmNvbS86eDovZy9wZXJzb25hbC9qb2hlcmFzX3VuaXJpb2phX2VzL0VURWNBR2JuV0RsSGpoS3p6eEJGeUFvQmdDYUQwR0paaS1jWDQtWUlYdEhCc0E_cnRpbWU9QjBDZDJfTVoyVWc&cid=d0e4f041-7996-4568-a8ea-5f58327930f7 [following]\n",
            "--2021-05-18 11:55:40--  https://unirioja-my.sharepoint.com/personal/joheras_unirioja_es/_layouts/15/Doc.aspx?sourcedoc=%7B66001c31-58e7-4739-8e12-b3cf1045c80a%7D&action=default&slrid=1b18c99f-30a2-b000-f874-6ae3d67a6d8b&originalPath=aHR0cHM6Ly91bmlyaW9qYS1teS5zaGFyZXBvaW50LmNvbS86eDovZy9wZXJzb25hbC9qb2hlcmFzX3VuaXJpb2phX2VzL0VURWNBR2JuV0RsSGpoS3p6eEJGeUFvQmdDYUQwR0paaS1jWDQtWUlYdEhCc0E_cnRpbWU9QjBDZDJfTVoyVWc&cid=d0e4f041-7996-4568-a8ea-5f58327930f7\n",
            "Reusing existing connection to unirioja-my.sharepoint.com:443.\n",
            "HTTP request sent, awaiting response... 200 OK\n",
            "Length: 29286 (29K) [text/html]\n",
            "Saving to: ‘datos.csv’\n",
            "\n",
            "datos.csv           100%[===================>]  28.60K  --.-KB/s    in 0.02s   \n",
            "\n",
            "2021-05-18 11:55:40 (1.53 MB/s) - ‘datos.csv’ saved [29286/29286]\n",
            "\n"
          ],
          "name": "stdout"
        }
      ]
    }
  ]
}